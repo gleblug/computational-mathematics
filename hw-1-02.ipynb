{
 "cells": [
  {
   "cell_type": "markdown",
   "id": "ad49bd53-493f-41ab-b485-d8b26f637d14",
   "metadata": {
    "id": "Fjxrb9gRqm-l",
    "slideshow": {
     "slide_type": "slide"
    }
   },
   "source": [
    "## Домашнее задание\n",
    "\n",
    "__Задание 1. Генератор случайных матриц.__\n",
    "\n",
    "Реализовать генератор матриц, который должен поддерживать функции:\n",
    "* Генерация абсолютно случайной матрицы $n\\times m$\n",
    "* Генерация случайной диагональной матрицы $n\\times n$\n",
    "* Генерация случайной верхнетреугольной матрицы\n",
    "* Генерация случайной нижнетреугольной матрицы\n",
    "* Генерация симметричной матрицы\n",
    "* Генерация вырожденной матрицы\n",
    "* Генерация матрицы ступенчатого вида $n\\times n$ ранга $m$\n",
    "* Генерация возмущения матрицы $n\\times m$, каждый элемент которой не превосходит по модулю заданный $\\varepsilon$. Оценить величину нормы матрицы возмущений в зависимости от параметра $\\varepsilon$ (оценить верхную границу).\n",
    "\n",
    "Оценить численно вероятность того, что созданная матрица будет вырожденной для какого-либо случая выше."
   ]
  },
  {
   "cell_type": "code",
   "execution_count": 1,
   "id": "39d7ee44-6ce0-4256-b50e-cceec80f422c",
   "metadata": {
    "ExecuteTime": {
     "end_time": "2023-09-09T13:40:58.513886Z",
     "start_time": "2023-09-09T13:40:57.923078Z"
    },
    "slideshow": {
     "slide_type": "fragment"
    }
   },
   "outputs": [],
   "source": [
    "# Реализую произвольную m,n, верхнетреугольную и симметричную. Остальное на вас - вам нужно дописать функцию.\n",
    "# Не забудьте откомментировать ваши изменения в документации к функции!\n",
    "\n",
    "import numpy as np\n",
    "\n",
    "def matrix_generate(rows, columns, type_ = \"full\", eps = 0):\n",
    "    \"\"\"\n",
    "    matrix_generate(rows, columns, type_ = \"full\")\n",
    "\n",
    "    Создаёт случайную матрицу выбранного типа.\n",
    "\n",
    "    Если матрицу нужных размеров создать нельзя, должен выдать\n",
    "    строку f\"Error with type {type_} and shape ({rows},{columns})\".\n",
    "\n",
    "    Parameters\n",
    "    ----------\n",
    "\n",
    "    rows : int\n",
    "        Количество строк в создаваемой матрице.\n",
    "    columns : int\n",
    "        Количество столбцов в создаваемой матрице.\n",
    "    type_ : str, optional\n",
    "        Тип создаваемой матрицы: \"full\", \"upper_triangular\", \"symmetric\" и т.д.\n",
    "    eps: float, optional\n",
    "        Дополнительное число, использующееся при генерации для некоторых типов матриц.\n",
    "\n",
    "    Returns\n",
    "    -------\n",
    "    out : ndarray or str\n",
    "        Выдаёт матрицу нужного типа либо ошибку.\n",
    "\n",
    "    Notes\n",
    "    -----\n",
    "    Поддерживаемые типы матриц:\n",
    "        \"full\",\"upper_triangular\",\n",
    "        \"lower_triangular\",\n",
    "        \"symmetric\", \"diagonal\",\n",
    "        \"degenerate\", \"stepwise\",\n",
    "        \"outrange\"\n",
    "\n",
    "\n",
    "    \"\"\"\n",
    "\n",
    "    A = None\n",
    "\n",
    "    if type_ == \"full\":\n",
    "        A = np.random.random(size=(rows, columns))\n",
    "\n",
    "    elif type_ == \"upper_triangular\":\n",
    "        A = np.random.random(size=(rows, columns))\n",
    "        for i in range(rows):\n",
    "            for j in range(columns):\n",
    "                if (i > j):\n",
    "                    A[i, j] = 0\n",
    "\n",
    "    elif type_ == \"lower_triangular\":\n",
    "        A = np.tril(np.random.random(size=(rows, columns)))\n",
    "       \n",
    "    elif type_ == \"symmetric\":\n",
    "        if rows != columns:\n",
    "            return f\"Error with type {type_} and shape ({rows},{columns})\"\n",
    "        else:\n",
    "            a = np.random.random(size=(rows, columns))\n",
    "            A = np.triu(a) + np.triu(a).T - np.tril(np.triu(a))\n",
    "    \n",
    "    elif type_ == \"diagonal\":\n",
    "        if rows != columns:\n",
    "            return f\"Error with type {type_} and shape ({rows},{columns})\"\n",
    "        A = np.diag(np.random.random(size=rows))\n",
    "    \n",
    "    elif type_ == \"degenerate\":\n",
    "        if rows != columns:\n",
    "            return f\"Error with type {type_} and shape ({rows},{columns})\"\n",
    "        a = np.random.random(size=(rows - 1, columns))\n",
    "        A = np.concatenate((a, np.array(a[-1])), axis=0)\n",
    "\n",
    "    elif type_ == \"stepwise\":\n",
    "        if rows != columns:\n",
    "            return f\"Error with type {type_} and shape ({rows},{columns})\"\n",
    "        elif eps > rows:\n",
    "            return f\"Error with type {type_} and shape ({rows},{columns})\"\n",
    "        elif eps < 0 or not str(eps).isdigit():\n",
    "            return f\"Error with type {type_} and shape ({rows},{columns})\"\n",
    "        a = matrix_generate(eps, eps, type_ = \"upper_triangular\")\n",
    "        a = np.concatenate((a, matrix_generate(eps, columns - eps, type_ = \"full\")), axis=1)\n",
    "        A = np.concatenate((a, np.zeros(shape=(rows-eps, columns))), axis=0)\n",
    "    \n",
    "    elif type_ == \"outrage\":\n",
    "        A = np.random.uniform(low=-eps, high=eps, size=())\n",
    "        \n",
    "    return A"
   ]
  },
  {
   "cell_type": "code",
   "execution_count": 3,
   "id": "a370f556-2602-447f-9289-07c754b3c2da",
   "metadata": {
    "ExecuteTime": {
     "end_time": "2023-09-09T13:40:58.987225Z",
     "start_time": "2023-09-09T13:40:58.979251Z"
    },
    "slideshow": {
     "slide_type": "fragment"
    }
   },
   "outputs": [
    {
     "data": {
      "text/plain": [
       "array([[0.92729915, 0.46372064, 0.3302204 ]])"
      ]
     },
     "execution_count": 3,
     "metadata": {},
     "output_type": "execute_result"
    }
   ],
   "source": [
    "matrix_generate(1, 3)"
   ]
  },
  {
   "cell_type": "code",
   "execution_count": 4,
   "id": "08f2ca79-c0a9-4831-8eca-755a15002ed3",
   "metadata": {
    "ExecuteTime": {
     "end_time": "2023-09-09T13:41:08.816354Z",
     "start_time": "2023-09-09T13:41:08.811797Z"
    },
    "slideshow": {
     "slide_type": "fragment"
    }
   },
   "outputs": [
    {
     "data": {
      "text/plain": [
       "array([[0.29095118, 0.48243508, 0.33314696, 0.11652231],\n",
       "       [0.        , 0.38207998, 0.3216804 , 0.19134324],\n",
       "       [0.        , 0.        , 0.19209787, 0.8512658 ],\n",
       "       [0.        , 0.        , 0.        , 0.83580995]])"
      ]
     },
     "execution_count": 4,
     "metadata": {},
     "output_type": "execute_result"
    }
   ],
   "source": [
    "matrix_generate(4, 4, type_ = \"upper_triangular\")"
   ]
  },
  {
   "cell_type": "code",
   "execution_count": 5,
   "id": "b1ec2774-77a0-45d0-8571-413e261fbe9d",
   "metadata": {
    "ExecuteTime": {
     "end_time": "2023-09-09T13:41:24.567372Z",
     "start_time": "2023-09-09T13:41:24.562819Z"
    },
    "slideshow": {
     "slide_type": "fragment"
    }
   },
   "outputs": [
    {
     "data": {
      "text/plain": [
       "array([[0.53609234, 0.36418414, 0.88111427],\n",
       "       [0.        , 0.98355036, 0.59701315],\n",
       "       [0.        , 0.        , 0.73738553],\n",
       "       [0.        , 0.        , 0.        ]])"
      ]
     },
     "execution_count": 5,
     "metadata": {},
     "output_type": "execute_result"
    }
   ],
   "source": [
    "matrix_generate(4, 3, type_ = \"upper_triangular\")"
   ]
  },
  {
   "cell_type": "code",
   "execution_count": 6,
   "id": "239193af-5142-422a-9474-14a5cd055302",
   "metadata": {
    "ExecuteTime": {
     "end_time": "2023-09-09T13:41:34.838804Z",
     "start_time": "2023-09-09T13:41:34.834563Z"
    },
    "slideshow": {
     "slide_type": "fragment"
    }
   },
   "outputs": [
    {
     "data": {
      "text/plain": [
       "array([[0.1556073 , 0.68119342, 0.99206063, 0.21796994],\n",
       "       [0.68119342, 0.11418224, 0.15759881, 0.11224172],\n",
       "       [0.99206063, 0.15759881, 0.70145001, 0.26590431],\n",
       "       [0.21796994, 0.11224172, 0.26590431, 0.03111788]])"
      ]
     },
     "execution_count": 6,
     "metadata": {},
     "output_type": "execute_result"
    }
   ],
   "source": [
    "matrix_generate(4, 4, type_ = \"symmetric\")"
   ]
  },
  {
   "cell_type": "code",
   "execution_count": 7,
   "id": "eec2f00c-75f1-4f17-8572-a135644ca00c",
   "metadata": {
    "ExecuteTime": {
     "end_time": "2023-09-09T13:41:46.384708Z",
     "start_time": "2023-09-09T13:41:46.380833Z"
    },
    "slideshow": {
     "slide_type": "fragment"
    }
   },
   "outputs": [
    {
     "data": {
      "text/plain": [
       "array([[0.00487425, 0.        , 0.        , 0.        ],\n",
       "       [0.        , 0.10497014, 0.        , 0.        ],\n",
       "       [0.        , 0.        , 0.91900008, 0.        ],\n",
       "       [0.        , 0.        , 0.        , 0.95536839]])"
      ]
     },
     "execution_count": 7,
     "metadata": {},
     "output_type": "execute_result"
    }
   ],
   "source": [
    "matrix_generate(4, 4, type_ = \"diagonal\")"
   ]
  },
  {
   "cell_type": "markdown",
   "id": "91fcaad9-7d35-49db-94b6-3cbc07e4ebff",
   "metadata": {},
   "source": [
    "Будем использовать Манхэттенскую норму:\n",
    "\n",
    "$||A|| \\leq m \\varepsilon$\n",
    "\n",
    "максимум:\n",
    "\n",
    "$||A|| \\leq n \\varepsilon$\n",
    "\n",
    "Норма Фробениуса:\n",
    "\n",
    "$||A|| \\leq \\sqrt{nm} \\cdot \\varepsilon$\n",
    "\n",
    "Тогда оценка $n, m, \\varepsilon$ подойдет для всех норм.\n",
    "Для случая вырожденной матрицы вероятность вырожденности равна 1."
   ]
  },
  {
   "cell_type": "markdown",
   "id": "f5e5b0cc-bffd-4b71-b282-33e599b4524b",
   "metadata": {},
   "source": [
    "---"
   ]
  },
  {
   "cell_type": "markdown",
   "id": "eb4b7e5b-9c6d-4217-b4e7-baad4219c1e3",
   "metadata": {
    "slideshow": {
     "slide_type": "slide"
    }
   },
   "source": [
    "__Задание 2. Вычисление матричных норм и числа обусловленности.__\n",
    "\n",
    "Реализовать вычисление трех основных норм векторов (L1, L2 и максимальную) и подчиненных им матричных норм. Реализовать вычисление числа обусловленности.\n",
    "\n",
    "Примечание: для вычисления собственных значений можно использовать linalg.eigvals из модуля scipy."
   ]
  },
  {
   "cell_type": "code",
   "execution_count": 30,
   "id": "2981eb50-23e3-4f11-aefa-f2ef05d54db6",
   "metadata": {},
   "outputs": [
    {
     "data": {
      "text/plain": [
       "array([[0.9591998 , 0.81803531],\n",
       "       [0.81803531, 0.52950193]])"
      ]
     },
     "execution_count": 30,
     "metadata": {},
     "output_type": "execute_result"
    }
   ],
   "source": [
    "import numpy as np\n",
    "import scipy as sp\n",
    "\n",
    "def L1_vec_norm(x):\n",
    "    return np.sum(abs(x))\n",
    "\n",
    "def L2_vec_norm(x):\n",
    "    return np.linalg.norm(x)\n",
    "\n",
    "def Max_vec_norm(x):\n",
    "    return np.max(x)\n",
    "\n",
    "def L1_mat_norm(A):\n",
    "    return Max_mat_norm(A.T)\n",
    "\n",
    "def L2_mat_norm(A):\n",
    "    return np.sqrt(np.max(sp.linalg.eigvals(A.T @ A).real))\n",
    "\n",
    "def Max_mat_norm(A):\n",
    "    return np.max(np.sum(A, axis=1))\n",
    "\n",
    "def conditionality_number(A, norm=\"L2\"): # norm: \"L1\", \"L2\", \"Max\"\n",
    "    m = None\n",
    "    if norm == \"L1\":\n",
    "        m = L1_mat_norm(A) * L1_mat_norm(np.linalg.inv(A))\n",
    "    elif norm == \"Max\":\n",
    "        m = Max_mat_norm(A) * Max_mat_norm(np.linalg.inv(A))\n",
    "    elif norm == \"L2\":\n",
    "        m = L2_mat_norm(A) * L2_mat_norm(np.linalg.inv(A))\n",
    "    return m\n",
    "\n",
    "x = np.array([6, -1, 2])\n",
    "A = matrix_generate(2, 2, type_ = \"symmetric\")\n",
    "A"
   ]
  },
  {
   "cell_type": "code",
   "execution_count": 31,
   "id": "b576cc9f-44b5-445e-a20b-1d0023fef72b",
   "metadata": {},
   "outputs": [
    {
     "data": {
      "text/plain": [
       "15.67742888291677"
      ]
     },
     "execution_count": 31,
     "metadata": {},
     "output_type": "execute_result"
    }
   ],
   "source": [
    "conditionality_number(A)"
   ]
  },
  {
   "cell_type": "code",
   "execution_count": 32,
   "id": "278eb49d-7d3f-47f4-91bc-448685cebe01",
   "metadata": {},
   "outputs": [
    {
     "data": {
      "text/plain": [
       "6.4031242374328485"
      ]
     },
     "execution_count": 32,
     "metadata": {},
     "output_type": "execute_result"
    }
   ],
   "source": [
    "L2_vec_norm(x)"
   ]
  },
  {
   "cell_type": "markdown",
   "id": "eff9e364-f8f6-4219-9877-a8d2583d8ab4",
   "metadata": {},
   "source": [
    "---"
   ]
  },
  {
   "cell_type": "markdown",
   "id": "403d0e90-0c8d-4993-a914-0211e82f969a",
   "metadata": {
    "slideshow": {
     "slide_type": "slide"
    }
   },
   "source": [
    "__Задание 3. Эквивалентность первых двух норм.__\n",
    "\n",
    "Найдите константы $C_1$  и  $C_2$ такие, что\n",
    "\n",
    "$\\ C_1||\\mathbf{x}||_2\\leq||\\mathbf{x}||_1\\leq C_2||\\mathbf{x}||_2$\n",
    "\n",
    "\n",
    "Указание: в качестве подсказки можно использовать визуализацию норм из документа с теорией."
   ]
  },
  {
   "cell_type": "markdown",
   "id": "4922cb76-f90d-4f95-9206-2dfe6b53f482",
   "metadata": {},
   "source": [
    "**Решение**\n",
    "\n",
    "Востользуемся неравенством Коши-Буняковского для двух векторов $x, y$:\n",
    "    \n",
    "$( x , y ) \\leq |x|\\cdot|y|)$\n",
    "\n",
    "или\n",
    "\n",
    "$x_1 y_1 + \\ldots + x_n y_n \\leq \\sqrt{ x_1^2+ \\ldots + x_n^2} \\cdot \\sqrt{ y_1^2 + \\ldots + y_n^2}$\n",
    "\n",
    "Это неравенство выполнено для любых $x, y$, поэтому взяв произвольный $x$ и подобрав к нему $y$: $y_i = \\text{sgn }{ x_i }$, получаем следующее неравенство:\n",
    "\n",
    "$|x_1| + \\ldots +|x_n| \\leq \\sqrt n \\sqrt{ x_1^2 + \\ldots + x_n^2}$\n",
    "\n",
    "Для получения $C_1$ достаточно возвести нормы в квадрат и увидеть, что квадрат первой\n",
    "нормы равен сумме квадрата второго и неотрицательной суммы попарных произведений\n",
    "модулей компонент.\n",
    "\n",
    "**Ответ**\n",
    "\n",
    "Таким образом, $C_1=1$, $C_2=\\sqrt n$"
   ]
  },
  {
   "cell_type": "markdown",
   "id": "8ad6eaaa-d184-411c-af90-662083679199",
   "metadata": {},
   "source": [
    "---"
   ]
  },
  {
   "cell_type": "markdown",
   "id": "7984f19c-9552-46b9-8bae-87f0cc426fc0",
   "metadata": {
    "slideshow": {
     "slide_type": "slide"
    }
   },
   "source": [
    "__Задание 4. Евклидова и бесконечная норма.__\n",
    "\n",
    " Пусть x — вектор размерности m, а A — матрица m×n. Докажите следующие неравенства и приведите\n",
    "примеры таких x и A, при которых неравенства обращаются в равенства:\n",
    "\n",
    "- $\\|x\\|_2 \\leq \\sqrt{m} \\cdot \\|x\\|_{\\infty}$\n",
    "- $\\|A\\|_{\\infty} \\leq \\sqrt{n} \\cdot \\|A\\|_2$"
   ]
  },
  {
   "cell_type": "markdown",
   "id": "d9678c1e-6934-4d92-9e7b-51af442dd96e",
   "metadata": {},
   "source": [
    "**Решение**\n",
    "\n",
    "Первый пункт\n",
    "\n",
    "$\\|x \\|_2 = \\sqrt{ x_1^2+ \\ldots + x_m^2} \\leq \\sqrt{ m \\cdot \\max{( x_1 , \\ldots, x_m )}} = \\sqrt m\\cdot \\| x \\|_\\infty  $\n",
    "                                                                \n",
    "Равенство очевидно выполняется, если все элементы равны.\n",
    "\n",
    "Видим, что максимальная норма не больше нормы Фробениуса:\n",
    "\n",
    "$\\| A \\| _\\infty \\leq \\| A \\|_F$.\n",
    "\n",
    "При этом норму Фробениуса можно оценить с помощью спектральной нормы:\n",
    "\n",
    "$\\| A \\|_F \\leq \\sqrt n \\cdot \\| A \\|_2$ (как это было показано на семинаре)"
   ]
  },
  {
   "cell_type": "markdown",
   "id": "8d2841a2-a8f6-451f-92b3-a376c38303e1",
   "metadata": {},
   "source": [
    "---"
   ]
  },
  {
   "cell_type": "markdown",
   "id": "d6931617-6b1d-4973-b4d3-50f9d3d8864f",
   "metadata": {
    "slideshow": {
     "slide_type": "slide"
    }
   },
   "source": [
    "__Задание 5.  Норма Фробениуса.__\n",
    "\n",
    "Докажите, что для любой унитарной матрицы U (и для произвольной матрицы A) имеет место равенство\n",
    "\n",
    " $\\| U A \\|_F = \\| AU \\|_F = \\| A \\|_F$ ,\n",
    "\n",
    " где $\\| \\cdot \\|_F$ — норма Фробениуса.\n",
    "\n",
    "Указание.  \n",
    "Задачу можно решить без вычислений, если использовать геометрический смысл нормы Фробениуса и геометрические свойства умножения на унитарную матрицу (что при умножении на неё сохраняется)."
   ]
  },
  {
   "cell_type": "markdown",
   "id": "2b2869b4-0160-4a2e-8296-0dd66e9314ba",
   "metadata": {},
   "source": [
    "Используя свойства нормы и унитарных матриц:\n",
    "\n",
    "$\\|UA\\|_F = \\text{tr } (UA)^T UA =  \\text{tr } A^T U^T U A= \\text{tr } A^T A=\\|A\\|_F$"
   ]
  },
  {
   "cell_type": "markdown",
   "id": "e64be9cf-7ad9-48aa-af43-938955cf7522",
   "metadata": {},
   "source": [
    "---"
   ]
  },
  {
   "cell_type": "markdown",
   "id": "c9fd77cd-4034-49da-b6ef-e593048fc2b7",
   "metadata": {
    "jupyter": {
     "source_hidden": true
    },
    "slideshow": {
     "slide_type": "slide"
    },
    "tags": []
   },
   "source": [
    "__Задание 6*.  Тензорная свёртка.__\n",
    "\n",
    "Рассмотрим функцию, отображающую шесть тензоров на один тензор: $Z\\left(\\lambda^{(1)}, \\lambda^{(2)}, \\lambda^{(3)}, \\Gamma^{(1)}, \\Gamma^{(2)}, U\\right)$ :\n",
    "\n",
    "\n",
    "$$\n",
    "Z_{a h i j}=\\sum_{b c d e f g} \\lambda^{(1)}{ }_{a b} \\Gamma_{c b d}^{(1)} \\lambda^{(2)}{ }_{d e} \\Gamma_{f e g}^{(2)} \\lambda_{g h}^{(3)} U_{i j c f}\n",
    "$$\n",
    "\n",
    "редположив, что все индексы пробегают значения от 1 до χ, проведите эксперимент и сравните скорость\n",
    "различных реализаций функции Z. Исследуйте значения χ в диапазоне 3–50.\n",
    "\n",
    "\n",
    "- В файле convolution. ipynb вы можете найти релизацию глупого способа вычисления этой свертки, который требует $\\chi^4 \\times \\chi^6=\\chi^{10}$ операций. На самом деле это можно вычислить гораздо быстрее!\n",
    "- С помощью функции numpy . einsum (нужно использовать аргумент optimize), можно добиться намного большей производительности. Чтобы понять, что происходит под капотом, воспользуйтесь функцией numpy.einsum_path. Какое минимальное количество операций требуется для вычисления $Z$ ?\n",
    "- Посмотрев на вывод функции numpy.einsum_path, peализуйте алгоритм для вычисления $Z$, который столь же эффективен, как numpy.einsum, но использует более элементарные numpy.dot и numpy.tensor_dot.\n"
   ]
  },
  {
   "cell_type": "code",
   "execution_count": null,
   "id": "5e8a0d19-7a30-4a9e-b4ee-70e88bb3f3ad",
   "metadata": {},
   "outputs": [],
   "source": []
  },
  {
   "cell_type": "markdown",
   "id": "129bff42-1d8f-4d57-b9c3-7d7323ade18e",
   "metadata": {
    "jupyter": {
     "source_hidden": true
    },
    "tags": []
   },
   "source": [
    "__Задание 7*__\n",
    "\n",
    "Сгенерировать хорошо обусловленную матрицу (по сравнению со случайной)"
   ]
  },
  {
   "cell_type": "code",
   "execution_count": null,
   "id": "c62b5ee6-6216-4d54-9473-cba6806e5079",
   "metadata": {},
   "outputs": [],
   "source": []
  }
 ],
 "metadata": {
  "kernelspec": {
   "display_name": "Python 3 (ipykernel)",
   "language": "python",
   "name": "python3"
  },
  "language_info": {
   "codemirror_mode": {
    "name": "ipython",
    "version": 3
   },
   "file_extension": ".py",
   "mimetype": "text/x-python",
   "name": "python",
   "nbconvert_exporter": "python",
   "pygments_lexer": "ipython3",
   "version": "3.10.12"
  }
 },
 "nbformat": 4,
 "nbformat_minor": 5
}
