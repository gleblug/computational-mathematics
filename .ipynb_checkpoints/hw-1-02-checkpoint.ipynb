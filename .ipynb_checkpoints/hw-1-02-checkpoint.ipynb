{
 "cells": [
  {
   "cell_type": "markdown",
   "id": "ad49bd53-493f-41ab-b485-d8b26f637d14",
   "metadata": {
    "id": "Fjxrb9gRqm-l",
    "slideshow": {
     "slide_type": "slide"
    }
   },
   "source": [
    "## Домашнее задание\n",
    "\n",
    "__Задание 1. Генератор случайных матриц.__\n",
    "\n",
    "Реализовать генератор матриц, который должен поддерживать функции:\n",
    "* Генерация абсолютно случайной матрицы $n\\times m$\n",
    "* Генерация случайной диагональной матрицы $n\\times n$\n",
    "* Генерация случайной верхнетреугольной матрицы\n",
    "* Генерация случайной нижнетреугольной матрицы\n",
    "* Генерация симметричной матрицы\n",
    "* Генерация вырожденной матрицы\n",
    "* Генерация матрицы ступенчатого вида $n\\times n$ ранга $m$\n",
    "* Генерация возмущения матрицы $n\\times m$, каждый элемент которой не превосходит по модулю заданный $\\varepsilon$. Оценить величину нормы матрицы возмущений в зависимости от параметра $\\varepsilon$ (оценить верхную границу).\n",
    "\n",
    "Оценить численно вероятность того, что созданная матрица будет вырожденной для какого-либо случая выше."
   ]
  },
  {
   "cell_type": "code",
   "execution_count": 2,
   "id": "39d7ee44-6ce0-4256-b50e-cceec80f422c",
   "metadata": {
    "ExecuteTime": {
     "end_time": "2023-09-09T13:40:58.513886Z",
     "start_time": "2023-09-09T13:40:57.923078Z"
    },
    "slideshow": {
     "slide_type": "fragment"
    }
   },
   "outputs": [],
   "source": [
    "# Реализую произвольную m,n, верхнетреугольную и симметричную. Остальное на вас - вам нужно дописать функцию.\n",
    "# Не забудьте откомментировать ваши изменения в документации к функции!\n",
    "\n",
    "import numpy as np\n",
    "\n",
    "def matrix_generate(rows, columns, type_ = \"full\", eps = 0):\n",
    "    \"\"\"\n",
    "    matrix_generate(rows, columns, type_ = \"full\")\n",
    "\n",
    "    Создаёт случайную матрицу выбранного типа.\n",
    "\n",
    "    Если матрицу нужных размеров создать нельзя должен выдать\n",
    "    строку f\"Error with type {type_} and shape ({rows},{columns})\".\n",
    "\n",
    "    Parameters\n",
    "    ----------\n",
    "\n",
    "    rows : int\n",
    "        Количество строк в создаваемой матрице.\n",
    "    columns : int\n",
    "        Количество столбцов в создаваемой матрице.\n",
    "    type_ : str, optional\n",
    "        Тип создаваемой матрицы: \"full\", \"upper_triangular\", \"symmetric\" и т.д.\n",
    "    eps: float, optional\n",
    "        Дополнительное число, использующееся при генерации для некоторых типов матриц.\n",
    "\n",
    "    Returns\n",
    "    -------\n",
    "    out : ndarray or str\n",
    "        Выдаёт матрицу нужного типа либо ошибку.\n",
    "\n",
    "    Notes\n",
    "    -----\n",
    "    Поддерживаемые типы матриц:\n",
    "        \"full\",\"upper_triangular\",\n",
    "        \"symmetric\",\n",
    "        ...\n",
    "\n",
    "\n",
    "    \"\"\"\n",
    "\n",
    "    A = None\n",
    "\n",
    "    if type_ == \"full\":\n",
    "\n",
    "        A = np.random.random(size=(rows, columns))\n",
    "\n",
    "    elif type_ == \"upper_triangular\":\n",
    "\n",
    "        A = np.random.random(size=(rows, columns))\n",
    "\n",
    "        for i in range(rows):\n",
    "            for j in range(columns):\n",
    "                if (i > j):\n",
    "                    A[i, j] = 0\n",
    "\n",
    "        # Для нижнетреугольной подумайте, как сделать без циклов for :) (звёздочка)\n",
    "\n",
    "    elif type_ == \"symmetric\":\n",
    "\n",
    "        if rows != columns:\n",
    "            return f\"Error with type {type_} and shape ({rows},{columns})\"\n",
    "\n",
    "        else:\n",
    "\n",
    "            A = np.random.random(size=(rows, columns))\n",
    "\n",
    "            for i in range(rows):\n",
    "                for j in range(columns):\n",
    "                    if (i > j):\n",
    "                        A[i, j] = A[j, i]\n",
    "\n",
    "            # И эту секцую тоже перепишите без for (звёздочка). Учтите, что портить uniform распределение нельзя.\n",
    "\n",
    "    return A"
   ]
  },
  {
   "cell_type": "code",
   "execution_count": 3,
   "id": "a370f556-2602-447f-9289-07c754b3c2da",
   "metadata": {
    "ExecuteTime": {
     "end_time": "2023-09-09T13:40:58.987225Z",
     "start_time": "2023-09-09T13:40:58.979251Z"
    },
    "slideshow": {
     "slide_type": "fragment"
    }
   },
   "outputs": [
    {
     "data": {
      "text/plain": [
       "array([[0.92729915, 0.46372064, 0.3302204 ]])"
      ]
     },
     "execution_count": 3,
     "metadata": {},
     "output_type": "execute_result"
    }
   ],
   "source": [
    "matrix_generate(1, 3)"
   ]
  },
  {
   "cell_type": "code",
   "execution_count": 4,
   "id": "08f2ca79-c0a9-4831-8eca-755a15002ed3",
   "metadata": {
    "ExecuteTime": {
     "end_time": "2023-09-09T13:41:08.816354Z",
     "start_time": "2023-09-09T13:41:08.811797Z"
    },
    "slideshow": {
     "slide_type": "fragment"
    }
   },
   "outputs": [
    {
     "data": {
      "text/plain": [
       "array([[0.29095118, 0.48243508, 0.33314696, 0.11652231],\n",
       "       [0.        , 0.38207998, 0.3216804 , 0.19134324],\n",
       "       [0.        , 0.        , 0.19209787, 0.8512658 ],\n",
       "       [0.        , 0.        , 0.        , 0.83580995]])"
      ]
     },
     "execution_count": 4,
     "metadata": {},
     "output_type": "execute_result"
    }
   ],
   "source": [
    "matrix_generate(4, 4, type_ = \"upper_triangular\")"
   ]
  },
  {
   "cell_type": "code",
   "execution_count": 5,
   "id": "b1ec2774-77a0-45d0-8571-413e261fbe9d",
   "metadata": {
    "ExecuteTime": {
     "end_time": "2023-09-09T13:41:24.567372Z",
     "start_time": "2023-09-09T13:41:24.562819Z"
    },
    "slideshow": {
     "slide_type": "fragment"
    }
   },
   "outputs": [
    {
     "data": {
      "text/plain": [
       "array([[0.53609234, 0.36418414, 0.88111427],\n",
       "       [0.        , 0.98355036, 0.59701315],\n",
       "       [0.        , 0.        , 0.73738553],\n",
       "       [0.        , 0.        , 0.        ]])"
      ]
     },
     "execution_count": 5,
     "metadata": {},
     "output_type": "execute_result"
    }
   ],
   "source": [
    "matrix_generate(4, 3, type_ = \"upper_triangular\")"
   ]
  },
  {
   "cell_type": "code",
   "execution_count": 6,
   "id": "239193af-5142-422a-9474-14a5cd055302",
   "metadata": {
    "ExecuteTime": {
     "end_time": "2023-09-09T13:41:34.838804Z",
     "start_time": "2023-09-09T13:41:34.834563Z"
    },
    "slideshow": {
     "slide_type": "fragment"
    }
   },
   "outputs": [
    {
     "data": {
      "text/plain": [
       "array([[0.1556073 , 0.68119342, 0.99206063, 0.21796994],\n",
       "       [0.68119342, 0.11418224, 0.15759881, 0.11224172],\n",
       "       [0.99206063, 0.15759881, 0.70145001, 0.26590431],\n",
       "       [0.21796994, 0.11224172, 0.26590431, 0.03111788]])"
      ]
     },
     "execution_count": 6,
     "metadata": {},
     "output_type": "execute_result"
    }
   ],
   "source": [
    "matrix_generate(4, 4, type_ = \"symmetric\")"
   ]
  },
  {
   "cell_type": "code",
   "execution_count": 7,
   "id": "eec2f00c-75f1-4f17-8572-a135644ca00c",
   "metadata": {
    "ExecuteTime": {
     "end_time": "2023-09-09T13:41:46.384708Z",
     "start_time": "2023-09-09T13:41:46.380833Z"
    },
    "slideshow": {
     "slide_type": "fragment"
    }
   },
   "outputs": [
    {
     "data": {
      "text/plain": [
       "'Error with type symmetric and shape (4,1)'"
      ]
     },
     "execution_count": 7,
     "metadata": {},
     "output_type": "execute_result"
    }
   ],
   "source": [
    "matrix_generate(4, 1, type_ = \"symmetric\")"
   ]
  },
  {
   "cell_type": "markdown",
   "id": "eb4b7e5b-9c6d-4217-b4e7-baad4219c1e3",
   "metadata": {
    "slideshow": {
     "slide_type": "slide"
    }
   },
   "source": [
    "__Задание 2. Вычисление матричных норм и числа обусловленности.__\n",
    "\n",
    "Реализовать вычисление трех основных норм векторов (L1, L2 и максимальную) и подчиненных им матричных норм. Реализовать вычисление числа обусловленности.\n",
    "\n",
    "Примечание: для вычисления собственных значений можно использовать linalg.eigvals из модуля scipy."
   ]
  },
  {
   "cell_type": "markdown",
   "id": "403d0e90-0c8d-4993-a914-0211e82f969a",
   "metadata": {
    "slideshow": {
     "slide_type": "slide"
    }
   },
   "source": [
    "__Задание 3. Эквивалентность первых двух норм.__\n",
    "\n",
    "Найдите константы $C_1$  и  $C_2$ такие, что\n",
    "\n",
    "$\\ C_1||\\mathbf{x}||_2\\leq||\\mathbf{x}||_1\\leq C_2||\\mathbf{x}||_2$\n",
    "\n",
    "\n",
    "Указание: в качестве подсказки можно использовать визуализацию норм из документа с теорией."
   ]
  },
  {
   "cell_type": "markdown",
   "id": "7984f19c-9552-46b9-8bae-87f0cc426fc0",
   "metadata": {
    "slideshow": {
     "slide_type": "slide"
    }
   },
   "source": [
    "__Задание 4. Евклидова и бесконечная норма.__\n",
    "\n",
    " Пусть x — вектор размерности m, а A — матрица m×n. Докажите следующие неравенства и приведите\n",
    "примеры таких x и A, при которых неравенства обращаются в равенства:\n",
    "\n",
    "- $\\|x\\|_2 \\leq \\sqrt{m} \\cdot \\|x\\|_{\\infty}$\n",
    "- $\\|A\\|_{\\infty} \\leq \\sqrt{n} \\cdot \\|A\\|_2$"
   ]
  },
  {
   "cell_type": "markdown",
   "id": "d6931617-6b1d-4973-b4d3-50f9d3d8864f",
   "metadata": {
    "slideshow": {
     "slide_type": "slide"
    }
   },
   "source": [
    "__Задание 5.  Норма Фробениуса.__\n",
    "\n",
    "Докажите, что для любой унитарной матрицы U (и для произвольной матрицы A) имеет место равенство\n",
    "\n",
    " $\\| U A \\|_F = \\| AU \\|_F = \\| A \\|_F$ ,\n",
    "\n",
    " где $\\| \\cdot \\|_F$ — норма Фробениуса.\n",
    "\n",
    "Указание.  \n",
    "Задачу можно решить без вычислений, если использовать геометрический смысл нормы Фробениуса и геометрические свойства умножения на унитарную матрицу (что при умножении на неё сохраняется)."
   ]
  },
  {
   "cell_type": "markdown",
   "id": "c9fd77cd-4034-49da-b6ef-e593048fc2b7",
   "metadata": {
    "slideshow": {
     "slide_type": "slide"
    }
   },
   "source": [
    "__Задание 6*.  Тензорная свёртка.__\n",
    "\n",
    "Рассмотрим функцию, отображающую шесть тензоров на один тензор: $Z\\left(\\lambda^{(1)}, \\lambda^{(2)}, \\lambda^{(3)}, \\Gamma^{(1)}, \\Gamma^{(2)}, U\\right)$ :\n",
    "\n",
    "\n",
    "$$\n",
    "Z_{a h i j}=\\sum_{b c d e f g} \\lambda^{(1)}{ }_{a b} \\Gamma_{c b d}^{(1)} \\lambda^{(2)}{ }_{d e} \\Gamma_{f e g}^{(2)} \\lambda_{g h}^{(3)} U_{i j c f}\n",
    "$$\n",
    "\n",
    "редположив, что все индексы пробегают значения от 1 до χ, проведите эксперимент и сравните скорость\n",
    "различных реализаций функции Z. Исследуйте значения χ в диапазоне 3–50.\n",
    "\n",
    "\n",
    "- В файле convolution. ipynb вы можете найти релизацию глупого способа вычисления этой свертки, который требует $\\chi^4 \\times \\chi^6=\\chi^{10}$ операций. На самом деле это можно вычислить гораздо быстрее!\n",
    "- С помощью функции numpy . einsum (нужно использовать аргумент optimize), можно добиться намного большей производительности. Чтобы понять, что происходит под капотом, воспользуйтесь функцией numpy.einsum_path. Какое минимальное количество операций требуется для вычисления $Z$ ?\n",
    "- Посмотрев на вывод функции numpy.einsum_path, peализуйте алгоритм для вычисления $Z$, который столь же эффективен, как numpy.einsum, но использует более элементарные numpy.dot и numpy.tensor_dot.\n"
   ]
  },
  {
   "cell_type": "markdown",
   "id": "129bff42-1d8f-4d57-b9c3-7d7323ade18e",
   "metadata": {},
   "source": [
    "__Задание 7*__\n",
    "\n",
    "Сгенерировать хорошо обусловленную матрицу (по сравнению со случайной)"
   ]
  }
 ],
 "metadata": {
  "kernelspec": {
   "display_name": "Python 3 (ipykernel)",
   "language": "python",
   "name": "python3"
  },
  "language_info": {
   "codemirror_mode": {
    "name": "ipython",
    "version": 3
   },
   "file_extension": ".py",
   "mimetype": "text/x-python",
   "name": "python",
   "nbconvert_exporter": "python",
   "pygments_lexer": "ipython3",
   "version": "3.10.12"
  }
 },
 "nbformat": 4,
 "nbformat_minor": 5
}
